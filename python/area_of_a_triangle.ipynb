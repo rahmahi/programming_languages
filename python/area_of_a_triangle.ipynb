{
 "cells": [
  {
   "cell_type": "code",
   "execution_count": 47,
   "metadata": {},
   "outputs": [
    {
     "name": "stdout",
     "output_type": "stream",
     "text": [
      "a= 66.25\n",
      "b= 52.25\n",
      "c= 14.5\n",
      "s= 66.5\n",
      "area1= 110.99155373270527\n"
     ]
    }
   ],
   "source": [
    "import numpy as np\n",
    "\n",
    "a = 66.25\n",
    "b = 52.25\n",
    "c = 14.5\n",
    "s = (a+b+c)/2.0\n",
    "\n",
    "area1 = np.sqrt(s * (s-a) * (s-b) * (s-c))\n",
    "print('a=',a)\n",
    "print('b=',b)\n",
    "print('c=',c)\n",
    "print('s=',s)\n",
    "print('area1=',area1)"
   ]
  },
  {
   "cell_type": "code",
   "execution_count": 48,
   "metadata": {},
   "outputs": [
    {
     "name": "stdout",
     "output_type": "stream",
     "text": [
      "a= 41.33\n",
      "b= 52.25\n",
      "c= 65.91666666666667\n",
      "s= 79.74833333333333\n",
      "area2= 1079.4946917166665\n"
     ]
    }
   ],
   "source": [
    "a = 41.33\n",
    "b = 52.25\n",
    "c = 65+11/12\n",
    "s = (a+b+c)/2.0\n",
    "area2 = np.sqrt(s * (s-a) * (s-b) * (s-c))\n",
    "print('a=',a)\n",
    "print('b=',b)\n",
    "print('c=',c)\n",
    "print('s=',s)\n",
    "print('area2=',area2)"
   ]
  },
  {
   "cell_type": "code",
   "execution_count": 49,
   "metadata": {},
   "outputs": [
    {
     "name": "stdout",
     "output_type": "stream",
     "text": [
      "a= 65.91666666666667\n",
      "b= 62.583333333333336\n",
      "c= 41.416666666666664\n",
      "s= 84.95833333333333\n",
      "area3= 1255.4213716205172\n"
     ]
    }
   ],
   "source": [
    "a = 65+11/12\n",
    "b = 62+7/12\n",
    "c = 41+5/12\n",
    "s = (a+b+c)/2.0\n",
    "area3 = np.sqrt(s * (s-a) * (s-b) * (s-c))\n",
    "print('a=',a)\n",
    "print('b=',b)\n",
    "print('c=',c)\n",
    "print('s=',s)\n",
    "print('area3=',area3)"
   ]
  },
  {
   "cell_type": "code",
   "execution_count": 50,
   "metadata": {},
   "outputs": [
    {
     "name": "stdout",
     "output_type": "stream",
     "text": [
      "a= 14.5\n",
      "b= 41.416666666666664\n",
      "c= 46.333333333333336\n",
      "s= 51.125\n",
      "area4= 295.13527231750663\n"
     ]
    }
   ],
   "source": [
    "a = 14.5\n",
    "b = 41+5/12\n",
    "c = 46+4/12\n",
    "s = (a+b+c)/2.0\n",
    "area4 = np.sqrt(s * (s-a) * (s-b) * (s-c))\n",
    "print('a=',a)\n",
    "print('b=',b)\n",
    "print('c=',c)\n",
    "print('s=',s)\n",
    "print('area4=',area4)"
   ]
  },
  {
   "cell_type": "code",
   "execution_count": 51,
   "metadata": {},
   "outputs": [
    {
     "name": "stdout",
     "output_type": "stream",
     "text": [
      "total 2741.042889387396\n",
      "satak 6.292568616591818\n"
     ]
    }
   ],
   "source": [
    "total = area1 + area2 + area3 + area4\n",
    "print('total',total)\n",
    "print('satak',total/(435.6))"
   ]
  },
  {
   "cell_type": "markdown",
   "metadata": {},
   "source": [
    "### nanabhai calculation"
   ]
  },
  {
   "cell_type": "code",
   "execution_count": 53,
   "metadata": {},
   "outputs": [
    {
     "name": "stdout",
     "output_type": "stream",
     "text": [
      "satak 6.48208728701153\n"
     ]
    }
   ],
   "source": [
    "a = 41 + 4/12\n",
    "b = 62 + 7/12\n",
    "c = 46+ 4/12\n",
    "d = 66.25\n",
    "\n",
    "l = (a + c)/2.0\n",
    "m = (b + d)/2.0\n",
    "\n",
    "areaa = l * m\n",
    "print('satak',areaa/(435.6))"
   ]
  },
  {
   "cell_type": "markdown",
   "metadata": {},
   "source": [
    "### bolpur calculation"
   ]
  },
  {
   "cell_type": "code",
   "execution_count": 55,
   "metadata": {},
   "outputs": [
    {
     "name": "stdout",
     "output_type": "stream",
     "text": [
      "satak 7.302777777777778\n"
     ]
    }
   ],
   "source": [
    "area = 2629\n",
    "print('satak',area/360)"
   ]
  },
  {
   "cell_type": "code",
   "execution_count": 56,
   "metadata": {},
   "outputs": [
    {
     "data": {
      "text/plain": [
       "435.26490066225165"
      ]
     },
     "execution_count": 56,
     "metadata": {},
     "output_type": "execute_result"
    }
   ],
   "source": [
    "2629/6.04"
   ]
  },
  {
   "cell_type": "code",
   "execution_count": null,
   "metadata": {},
   "outputs": [],
   "source": [
    "   "
   ]
  },
  {
   "cell_type": "code",
   "execution_count": 43,
   "metadata": {},
   "outputs": [
    {
     "name": "stdout",
     "output_type": "stream",
     "text": [
      "1 katha= 1.65 satak\n"
     ]
    }
   ],
   "source": [
    "print('1 katha=',33/20,'satak')"
   ]
  },
  {
   "cell_type": "code",
   "execution_count": 44,
   "metadata": {},
   "outputs": [
    {
     "data": {
      "text/plain": [
       "4.949999999999999"
      ]
     },
     "execution_count": 44,
     "metadata": {},
     "output_type": "execute_result"
    }
   ],
   "source": []
  },
  {
   "cell_type": "code",
   "execution_count": null,
   "metadata": {},
   "outputs": [],
   "source": []
  }
 ],
 "metadata": {
  "kernelspec": {
   "display_name": "Python 3",
   "language": "python",
   "name": "python3"
  },
  "language_info": {
   "codemirror_mode": {
    "name": "ipython",
    "version": 3
   },
   "file_extension": ".py",
   "mimetype": "text/x-python",
   "name": "python",
   "nbconvert_exporter": "python",
   "pygments_lexer": "ipython3",
   "version": "3.8.2"
  }
 },
 "nbformat": 4,
 "nbformat_minor": 4
}

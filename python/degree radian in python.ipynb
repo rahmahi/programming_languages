{
 "cells": [
  {
   "cell_type": "code",
   "execution_count": 1,
   "metadata": {},
   "outputs": [
    {
     "name": "stdout",
     "output_type": "stream",
     "text": [
      "1.315947253478581\n",
      "7\n"
     ]
    }
   ],
   "source": [
    "# to find out how many of the cycles in a time scale with constant omega= 30 degree\n",
    "\n",
    "# KEEP IN MIND :  in python \"np.sin(x)\" x is radian value\n",
    "\n",
    "import numpy as np\n",
    "import matplotlib.pyplot as plt\n",
    "import math\n",
    "\n",
    "omega = 30\n",
    "w = omega/(2*np.pi) # omega converted into radian\n",
    "T = 2 * np.pi/w      # time period  of a complete cycle\n",
    "print(T)\n",
    "t = np.linspace(0,10,100)  # total time scale\n",
    "cycles = t[len(t)-1]/T  # how many cycles are there in total time scale\n",
    "print(math.floor(cycles)) #floor or integer value of number of cycles"
   ]
  }
 ],
 "metadata": {
  "kernelspec": {
   "display_name": "Python 3",
   "language": "python",
   "name": "python3"
  },
  "language_info": {
   "codemirror_mode": {
    "name": "ipython",
    "version": 3
   },
   "file_extension": ".py",
   "mimetype": "text/x-python",
   "name": "python",
   "nbconvert_exporter": "python",
   "pygments_lexer": "ipython3",
   "version": "3.8.2"
  }
 },
 "nbformat": 4,
 "nbformat_minor": 4
}
